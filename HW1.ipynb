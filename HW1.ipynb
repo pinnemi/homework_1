{
 "cells": [
  {
   "cell_type": "markdown",
   "id": "45c06ffc-14b4-49aa-8047-4de5de99ff48",
   "metadata": {
    "tags": []
   },
   "source": [
    "# Homework #1\n",
    "\n",
    "**Due: Friday Oct. 13th @ 11:59 pm**\n",
    "\n",
    "**Objective:** This assignment will give you experience using a Jupyter notebook to write text and code, including variables, mathematical operations, string, and list manipulations.\n",
    "\n",
    "\n",
    "## **Instructions:**\n",
    "### Accessing Class Code\n",
    "\n",
    "1. Create a new private repository on your GitHub account and name it \"homework_1\". This will be your personal GitHub repository that you will submit to Gradescope. **DO NOT** initialize your repository with a README! This will create a different commit than the repository you will eventually push to your GitHub and create conflicts, so please make sure it is completely empty to start with.\n",
    "\n",
    "2. Go to the class GitHub Homework 1 [repository](https://github.com/OCEAN-215-2023/homework_1). \n",
    "\n",
    "3. Find the **SSH** URL (review Assignment #0b if you don't remember how to do this), and copy the URL to your clipboard.\n",
    "\n",
    "4. In your JupyterHub terminal, change to your home directory. Run this line of code to clone the public classic repository into your local server: \n",
    "``` git clone git@github.com:OCEAN-215-2023/homework_1.git ```\n",
    "\n",
    "5. Sometimes, our JupyterHub server has trouble remembering the file permissions for our SSH keys. If you get a file permission error with your private ssh key, run this line of code:\n",
    "```chmod 400 ~/.ssh/id_ed25519``` \n",
    "<br>\n",
    "\n",
    "This will change your file permission to the proper permissions that SSH requires.\n",
    "\n",
    "6. There should now be a \"homework_1\" directory in the home directory of your JupyterHub. In terminal, change directories into \"homework_1\". Next, click on the the \"homework_1\" icon on the filepath hierarchy in the left panel of JupyterHub. If you don't see it, make sure you're in the home folder by clicking the folder icon under the search bar. \n",
    "\n",
    "7. In terminal, set your branch to main (step 17 in #0b) and your remote (origin) to your **_personal_** \"homework_1\" GitHub repository (step 18). Use these lines of code (you will only need to do these steps once to set up in the beginning): \n",
    "``` git init ``` <br>\n",
    "``` git branch -M main``` <br>\n",
    "``` git remote set-url origin __your_ssh_url_here__```\n",
    "\n",
    "To check if your remote origin is set correctly, run: <br>\n",
    "``` git remote -v ```\n",
    "\n",
    "You should see an SSH URL with your GitHub username. \n",
    "\n",
    "8. Double click the \"HW1.ipynb\" to open it in a new tab and begin working on the assignment. Read the instructions carefully, and make sure to write your answers in the specified cells. Typically, you will see a \"...\" in the places you need to fill in. Make sure to use the variable names provided in the starter code. See the \"Working in your Notebook\" section below for an example.\n",
    "\n",
    "9. Create a README file and write your name and UW NetID. Include a paragraph of instructions on how you used git commands to add, commit, and push to your repository (3-5 sentences). Now that y'all are GitHub connoisseurs, imagine that you are explaining how to use GitHub to someone who has never used GitHub before! :) \n",
    "\n",
    "10. As you continue to answer the homework questions and make edits to your code, make sure to regularly update your GitHub repository as well via git add, commit, and push (steps 15, 16, 19 in 0b). A good rule of thumb would be to run these git steps anytime you make an addition or change that you don't want to accidentally lose. Generally, you can push once a day to maintain good version control practices. <br>\n",
    "As a note, make sure that your git commands are running without errors before you refresh your GitHub and check your changes. If you are not seeing the updated changes you created in your local JupyterHub directory, check where your status is by this command: <br>\n",
    "``` git status```\n",
    "\n",
    "Then, you can see if you made an error with your git add, commit, or push commands. \n",
    "    \n",
    "### Submitting to GradeScope\n",
    "\n",
    "11. Go to the class Gradescope dashboard and submit your **_private_** GitHub repository link to Homework 1 assignment. Make sure your GitHub is synchronized with Gradescope to access both your public _and_ private repositories. If prompted, log in to GitHub.\n",
    "\n",
    "12. Run the autograder to check if your code runs and if you passed the initial unit tests. You should be able to run the autograder as many times as you want before submitting. Again, double check that your final answers are stored in the provided variable names given in the starter code!\n",
    "\n",
    "13. Once the autograder has finished running, check that you have submitted the assignment. If you make any more changes to your code after submitting to Gradescope, make sure to push your changes to GitHub and resubmit the assignment on Gradescope. You can submit as many times as you want as there is no maximum submission attempts, but be sure to have your final submission in before the deadline.\n",
    "\n",
    "### Working in your Notebook\n",
    "    \n",
    "   To help you start thinking about how to write meaningful and concise variable names, we have provided variable names in most of your questions. For example, \"pelagic\" and \"coastal\" are variable names in Question 2a to describe different oceanic zones you will be comparing. <br>\n",
    "![Question_2a](part_a.png)\n",
    "    Note that there is an ellipsis (the \"...\") after each of the variable names. These are the sections you are expected to fill in. Please use the provided variable names (ie \"pelagic\" and \"coastal\" in the above example) to report your final answer back in. This will ensure that the autograder on Gradescope runs properly. <br>\n",
    "    <br>Make sure that you are adding comments and your outside references as you go along! Part of your grade will include using best coding practices in your homework assignments. \n",
    "\n",
    "### Honor Code\n",
    "\n",
    "- Complete the assignment by writing and executing text and code cells as specified. For this assignment, do not use any features of Python that have not yet been discussed in the lessons or class sessions.\n",
    "\n",
    "- Please keep in mind our late work and dropped homework grading policy. Review the syllabus for details.\n",
    "\n",
    "- You can acknowledge and describe any assistance you've received on this assignment in the specified cell of the HW1 notebook, whether that was from an instructor, classmate (either directly or on Piazza), and/or online resources other than official Python documentation websites like docs.python.org or numpy.org. Alternatively, if you prefer, you may acknowledge assistance at the relevant point(s) in your code using a Python comment (#). Don't forget that you can receive extra credit from answering at least one question on Ed Discussion!"
   ]
  },
  {
   "cell_type": "markdown",
   "id": "711fab02-47f9-451f-8c0b-a84e979ceba8",
   "metadata": {
    "tags": []
   },
   "source": [
    "*Acknowledge assistance here or in comments above your code:*\n",
    "\n",
    "\n",
    "\n"
   ]
  },
  {
   "cell_type": "markdown",
   "id": "ef1637b0-14da-4f24-b040-ca98dec6a062",
   "metadata": {
    "deletable": false,
    "editable": false
   },
   "source": [
    "<!-- BEGIN QUESTION -->\n",
    "\n",
    "# Question 1 (20 points)\n",
    "\n",
    "Although the goal of OCEAN 215 is not to teach \"data science\" per se, we hope this course will give you a window into the possibilities offered by data analysis. If you find that you enjoy working with data and writing computer code, you might want to consider a career in academic research or data science. But what is data science, precisely? To better understand this rapidly-growing field, we would like you to read the following article (which should take about 15 minutes), then answer the questions below. There are no wrong answers, but please respond thoughtfully with 2-3 sentences for each. \n",
    "\n",
    "Article: \"What is data science?\" Thinkful. https://www.thinkful.com/blog/what-is-data-science/. Read up until the \"Your Turn\" section.\n",
    "\n",
    "> a) What data do you think you have generated today that might, at some point, be analyzed by a data scientist (5 points)?\n",
    "\n",
    "> b) Can you think of an oceanography data set that could be considered \"big data\"? Why would it be classified as such (5 points)?\n",
    "\n",
    "> c) The article describes how machine learning can be useful for making predictions and identifying relationships in data. Can you think of a research question or task in oceanography or your academic area of interest that might benefit from machine learning? Why might machine learning be particularly useful for that task (10 points)?"
   ]
  },
  {
   "cell_type": "markdown",
   "id": "fcdf43d7",
   "metadata": {},
   "source": [
    "a) The number of steps I walk every day could be analyzed by a data scientist.\n",
    "b) All of the footage for every ROV dive by the ROV Jason. It would be big data set because it can take high quality footage (4k) that would have a large file size, and because it has been operating since 2002, completing over a thousand dives across the world's oceans.\n",
    "c) I'm interested in how biodiversity changes either during succesion or in response to changing environmental factors. Machine learning would be helpfull to combine records of many species, and help correlate any changes in biodiversity with environmental changes that would be difficult for a person to visualize (unsupervised learning). Additionally, you could use machine learning/ AI to identify photos or video of animals without needing to hire a person to identify each image. "
   ]
  },
  {
   "cell_type": "markdown",
   "id": "a44a1eea-9f20-4412-9dd4-f8430ab327bc",
   "metadata": {
    "deletable": false,
    "editable": false,
    "tags": []
   },
   "source": [
    "<!-- END QUESTION -->\n",
    "\n",
    "# Question 2 (25 points)\n",
    "\n",
    "The depth of the photic zone (the maximum depth where photosynthesis can occur) in the ocean varies. In clear, pelagic water the photic zone extends to 200 meters depth. In turbid coastal water, the photic zone might only extend to 50 meters depth.\n",
    "\n",
    "Diatoms are a type of phytoplankon (plankton that photosynthesize for energy). They have silica cell walls, and have no appendages for swimming. They must remain near the ocean surface in the photic zone to photosynthesize. To do this, they regulate their bouyancy to sink as slowly as possible. A small diatom might sink 0.9 feet/day, while a large one might sink 13.5 feet/day.\n",
    "\n",
    "Use this information to answer the following questions by writing Python code in the cell below. **Please have your code output (print) each question part and the solution, including the units!**\n",
    "\n",
    "\n",
    "> a) Assign the depth of the pelagic photic zone, coastal photic zone, small diatom sinking rate, and large diatom sinking rates to assigned variable names and print them. (5 points)\n",
    "\n",
    "> b) Convert the sinking rate of each diatom type to meters/day. (5 points)\n",
    "\n",
    "> c) Convert the sinking rate of each diatom type to centimeters/hour. (5 points)\n",
    "\n",
    "> d) Calculate how many days it would take for each diatom type to sink from the sea surface to the bottom of the photic zone in turbid coastal water. (5 points)\n",
    "\n",
    "> e) Calculate how many days it would take for each diatom type to sink from the sea surface to the bottom of the photic zone in clear pelagic water. (5 points)\n"
   ]
  },
  {
   "cell_type": "code",
   "execution_count": 1,
   "id": "d3820cf9-9560-409d-ae1c-80896424cf0e",
   "metadata": {
    "deletable": false,
    "editable": false,
    "tags": []
   },
   "outputs": [
    {
     "data": {
      "text/plain": [
       "'\\nanswer = 50\\nunits = \"hours\"\\nprint(\"part f)\",answer,units)\\n'"
      ]
     },
     "execution_count": 1,
     "metadata": {},
     "output_type": "execute_result"
    }
   ],
   "source": [
    "##Example code for printing answers\n",
    "\"\"\"\n",
    "answer = 50\n",
    "units = \"hours\"\n",
    "print(\"part f)\",answer,units)\n",
    "\"\"\"\n",
    "# Provide your answers in the cells below:"
   ]
  },
  {
   "cell_type": "markdown",
   "id": "da2dff56-d75e-41d2-934f-7df3db8a966e",
   "metadata": {
    "deletable": false,
    "editable": false,
    "tags": []
   },
   "source": [
    "### part a\n",
    "Assign the depth of the pelagic photic zone, coastal photic zone, small diatom sinking rate, and large diatom sinking rates to assigned variable names and print them. (5 points)"
   ]
  },
  {
   "cell_type": "code",
   "execution_count": 2,
   "id": "0e12e04a-2b1f-49c7-b1d7-f864a81c564c",
   "metadata": {
    "tags": []
   },
   "outputs": [
    {
     "name": "stdout",
     "output_type": "stream",
     "text": [
      "The depth of the pelagic photic zone is 200 meters.\n",
      "The depth of the coastal photic zone is 50 meters.\n",
      "The rate a small diatom sinks is 0.9 feet per day.\n",
      "The rate a large diatom sinks is 13.5 feet per day.\n"
     ]
    }
   ],
   "source": [
    "pelagic = 200\n",
    "coastal = 50\n",
    "time = \"day\"\n",
    "depth = \"feet\"\n",
    "metricdepth = \"meters\"\n",
    "sdiatom = 0.9\n",
    "ldiatom = 13.5\n",
    "#printing results as a full sentence with units\n",
    "print(\"The depth of the pelagic photic zone is\", pelagic,metricdepth+\".\")\n",
    "print (\"The depth of the coastal photic zone is\", coastal, metricdepth+\".\")\n",
    "print (\"The rate a small diatom sinks is\",sdiatom, depth, \"per\", time+\".\")\n",
    "print (\"The rate a large diatom sinks is\",ldiatom, depth, \"per\", time+\".\")"
   ]
  },
  {
   "cell_type": "markdown",
   "id": "830a598f-a9d1-4a1b-bf21-794d17c74c4c",
   "metadata": {
    "deletable": false,
    "editable": false
   },
   "source": [
    "### part b\n",
    "Convert the sinking rate of each diatom type to meters/day. (5 points)"
   ]
  },
  {
   "cell_type": "code",
   "execution_count": 3,
   "id": "77798f1c-cc8a-4b56-b19b-cbdcfe576450",
   "metadata": {
    "tags": []
   },
   "outputs": [
    {
     "name": "stdout",
     "output_type": "stream",
     "text": [
      "The rate a small diatom sinks is 0.2743199995830336 meters per day.\n",
      "The rate a large diatom sinks is 4.114799993745504 meters per day.\n"
     ]
    }
   ],
   "source": [
    "#coppying previously defined variables to new cell\n",
    "pelagic = 200\n",
    "coastal = 50\n",
    "time = \"day\"\n",
    "depth = \"feet\"\n",
    "metricdepth = \"meters\"\n",
    "sdiatom = 0.9\n",
    "ldiatom = 13.5\n",
    "ft_to_m=3.2808399\n",
    "# converting feet to meters with conversion factor (determined correct operation with dimensional analysis on paper)\n",
    "sdiatom /= ft_to_m\n",
    "ldiatom /= ft_to_m\n",
    "depth = \"meters\"\n",
    "#printing results as a full sentence with units\n",
    "print(\"The rate a small diatom sinks is\", sdiatom, depth, \"per\", time+\".\")\n",
    "print(\"The rate a large diatom sinks is\", ldiatom, depth, \"per\", time+\".\")"
   ]
  },
  {
   "cell_type": "markdown",
   "id": "ee8ce2d2-3917-4a6c-acef-50281f0d329f",
   "metadata": {
    "deletable": false,
    "editable": false
   },
   "source": [
    "### part c\n",
    "Convert the sinking rate of each diatom type to centimeters/hour. (5 points)"
   ]
  },
  {
   "cell_type": "code",
   "execution_count": 4,
   "id": "15718c85-63b3-4a79-8b41-9c4428b39842",
   "metadata": {
    "tags": []
   },
   "outputs": [
    {
     "name": "stdout",
     "output_type": "stream",
     "text": [
      "The rate a small diatom sinks is 658.3679989992806 centimeters per hour.\n",
      "The rate a large diatom sinks is 9875.51998498921 centimeters per hour.\n"
     ]
    }
   ],
   "source": [
    "# coppying previously defined variables into new cell, and work from part d where depth was overwritten to m and ft/day was converted to m/day\n",
    "pelagic = 200\n",
    "coastal = 50\n",
    "time = \"day\"\n",
    "depth = \"feet\"\n",
    "metricdepth = \"meters\"\n",
    "sdiatom = 0.9\n",
    "ldiatom = 13.5\n",
    "ft_to_m=3.2808399\n",
    "sdiatom /= ft_to_m\n",
    "ldiatom /= ft_to_m\n",
    "depth = \"meters\"\n",
    "# defining conversion factor from days to hours (24 hours in a day)\n",
    "day_to_hours = 24\n",
    "# defining conversion factor from meters to centimeters (100 cm in a m)\n",
    "m_to_cm = 100\n",
    "# converting sinking rate from meters to day to centimeters per hour using previously defined conversion factors in two steps\n",
    "sdiatom*= day_to_hours\n",
    "sdiatom*=m_to_cm\n",
    "ldiatom*= day_to_hours\n",
    "ldiatom*= m_to_cm\n",
    "# printing results as a full sentence with units\n",
    "print(\"The rate a small diatom sinks is\", sdiatom, \"centimeters per hour.\")\n",
    "print(\"The rate a large diatom sinks is\", ldiatom, \"centimeters per hour.\")"
   ]
  },
  {
   "cell_type": "markdown",
   "id": "e90c0341-034f-440d-b581-c201420ebf67",
   "metadata": {
    "deletable": false,
    "editable": false
   },
   "source": [
    "### part d\n",
    "Calculate how many days it would take for each diatom type to sink from the sea surface to the bottom of the photic zone in turbid coastal water. (5 points)"
   ]
  },
  {
   "cell_type": "code",
   "execution_count": 5,
   "id": "b9208ed3-0349-4cb6-a779-d5cf1315a6c1",
   "metadata": {
    "tags": []
   },
   "outputs": [
    {
     "name": "stdout",
     "output_type": "stream",
     "text": [
      "It would take a small diatom 182.0 days to sink from the surface to the bottom of the photic zone in turbid coastal water.\n",
      "It would take a large diatom 12.0 days to sink from the surface to the bottom of the photic zone in turbid coastal water.\n"
     ]
    }
   ],
   "source": [
    "#coppying previously defined variables and work from part b, where depth was overwritten to meters and the sinking rate was converted to m/day\n",
    "pelagic = 200\n",
    "coastal = 50\n",
    "time = \"day\"\n",
    "depth = \"feet\"\n",
    "metricdepth = \"meters\"\n",
    "sdiatom = 0.9\n",
    "ldiatom = 13.5\n",
    "ft_to_m=3.2808399\n",
    "sdiatom /= ft_to_m\n",
    "ldiatom /= ft_to_m\n",
    "depth = \"meters\"\n",
    "# dividing coastal depth of photic zone by the rate each diatom size sinks to find the time to sink through the photic zone\n",
    "sdiatomsink = coastal//sdiatom\n",
    "ldiatomsink = coastal//ldiatom\n",
    "#printing results\n",
    "print(\"It would take a small diatom\", sdiatomsink, time+\"s\", \"to sink from the surface to the bottom of the photic zone in turbid coastal water.\")\n",
    "print(\"It would take a large diatom\", ldiatomsink, time+\"s\", \"to sink from the surface to the bottom of the photic zone in turbid coastal water.\")"
   ]
  },
  {
   "cell_type": "markdown",
   "id": "2ab80e4f-16de-420b-b5ba-63ffb6c7259c",
   "metadata": {
    "deletable": false,
    "editable": false
   },
   "source": [
    "### part e\n",
    "Calculate how many days it would take for each diatom type to sink from the sea surface to the bottom of the photic zone in clear pelagic water. (5 points)"
   ]
  },
  {
   "cell_type": "code",
   "execution_count": 6,
   "id": "12be6e74-27d9-4ce8-b857-620f99923bf8",
   "metadata": {
    "tags": []
   },
   "outputs": [
    {
     "name": "stdout",
     "output_type": "stream",
     "text": [
      "It would take a small diatom 729.0 days to sink from the surface to the bottom of the photic zone in clear pelagic water.\n",
      "It would take a large diatom 48.0 days to sink from the surface to the bottom of the photic zone in clear pelagic water.\n"
     ]
    }
   ],
   "source": [
    "#coppying previously defined variables and work from part b, where depth was overwritten to meters and the sinking rate was converted to m/day\n",
    "pelagic = 200\n",
    "coastal = 50\n",
    "time = \"day\"\n",
    "depth = \"feet\"\n",
    "metricdepth = \"meters\"\n",
    "sdiatom = 0.9\n",
    "ldiatom = 13.5\n",
    "ft_to_m=3.2808399\n",
    "sdiatom /= ft_to_m\n",
    "ldiatom /= ft_to_m\n",
    "depth = \"meters\"\n",
    "# dividing pelagic depth of photic zone by the rate each diatom size sinks to find the time to sink through the photic zone\n",
    "sdiatomsink = pelagic//sdiatom\n",
    "ldiatomsink = pelagic//ldiatom\n",
    "#printing results as a full sentence with units\n",
    "print(\"It would take a small diatom\", sdiatomsink, time+\"s\", \"to sink from the surface to the bottom of the photic zone in clear pelagic water.\")\n",
    "print(\"It would take a large diatom\", ldiatomsink, time+\"s\", \"to sink from the surface to the bottom of the photic zone in clear pelagic water.\")"
   ]
  },
  {
   "cell_type": "markdown",
   "id": "72682492-f00f-4d56-9bf5-94c48b722fe0",
   "metadata": {
    "deletable": false,
    "editable": false
   },
   "source": [
    "# Question 3 (20 points)\n",
    "\n",
    "Ribosomal RNA (rRNA) gene sequencing is often used in phylogenetic research. Each sequence is made up of combinations of 4 different nucleobases, adenine (A), cytosine (C), guanine (G), and uracil (U). Every species of bacteria and archaea has a slightly-unique version of its 16s rRNA gene. This means that 16s rRNA can be targeted to classify what marine bacteria are present in a given parcel of seawater.\n",
    "\n",
    "In the code box below, there are two strings containing different rRNA sequences, which differ from DNA in that they contain uracil (U) nucleobases rather than thymine (T). Answer the following questions using Python. As in Question 2, please have your code output (print) the solutions to each, including any strings you are asked to create or slice.\n",
    "\n",
    "> a) How many nucleobases are in each of the sequences?\n",
    "How many times does guanine (G) occur in each of the sequences? (5 points)\n",
    "\n",
    "> b) Do four uracil (U) nucleobases ever occur side-by-side in either of the sequences? Provide your answers as booleans. (5 points)\n",
    "\n",
    "> c) Change these rRNA sequences to DNA sequences by replacing the uracil (U) bases with thymine (T) bases in both rRNA sequences. (5 points)\n",
    "\n",
    "> d) Slice and print the first 24 nucleobases from the new DNA sequences. How many of each nucleobase (A,C,G,T) are in each of these shorter sequences? (5 points)"
   ]
  },
  {
   "cell_type": "code",
   "execution_count": 7,
   "id": "85ca36d7-4b26-4476-9804-a08cc44af3da",
   "metadata": {
    "deletable": false,
    "editable": false,
    "tags": []
   },
   "outputs": [],
   "source": [
    "# Keep these starting lines of code – DO NOT CHANGE THIS!:\n",
    "\n",
    "RNA1 = 'GGGGGGCAGCAGUGGGGAAUAUUGGGCAAUGGACGAAAGUCUGACCCAGCCAUGCCGCGUGUGUGAAGAAGGCUCUAGGGUUGUAAUGCACUUUAAGUAGGGAGGAAAGGUUGUGUGUUAAUAGCACAUAGCUGUGACGUUACCUACAGAAUAAGCACCGGCUAACUCCGUGCCAGCAGCCGCGGUAAUACGGAGGGUGCAAGCGUUAAUCGGAAUUACUGGGCGUAAAGCGCGCGUAGGCGGUUAUUUAAGCUAGAUGUGAAAGCCCAGGGCUCAACCUUGGAAUUGCAUUUAGAACUGGGUAGCUAGAGUACAAGAGAGGGUGGUGGAAUUUCCAGUGUAGCGGUGAAAUGCGUAGAGAUUGGAAGGAACAUCAGUGGCGAAGGCGGCCACCUGGAUUGAUACUGACGCUGAGGUGCGAAAGCGUGGGGAGCAAACAGGAUUAGAUACCCCAGUAGUCCU'\n",
    "RNA2 = 'GGGGCGCAGCAGUGGGGAAUAUUGCACAAUGGGCGAAAGCCUGAUGCAGCCAUGCCGCGUGUGUGAAGAAGGCCUUCGGGUUGUAAAGCGCUUUCAGUUGUGAGGAAAGGGGUGUAGUUAAUAGCUACAUCCUGUGACGUUAGCAACAGAAGAAGCACCGGCUAACUUCGUGCCAGCAGCCUCGGUAAUACGAGGGGUGCAAGCGUUAAUCGGAAUUACUGGGCGUAAAGCGUUCGUAGGCGGUUUGUUAAGCAAGAUGUGAAAGCCCUGGGCUCAACCUGGGAACUGCAUUUUGAACUGGCAAACUAGAGUACUGUAGAGGGUGGUGGAAUUUCCAGUGUAGCGGUGAAAUGCGUAGAGAUUGGAAGGAACAUCAGUGGCGAAGGCGGCCACCUGGACAGAUACUGACGCUGAGGAACGAAAGCGUGGGGAGCAAACAGGAUUAGAUACCCUAGUAGUCUG'\n",
    "\n",
    "# Provide your answers in cells below:"
   ]
  },
  {
   "cell_type": "markdown",
   "id": "6995c227",
   "metadata": {},
   "source": [
    "_Type your answer here, replacing this text._"
   ]
  },
  {
   "cell_type": "code",
   "execution_count": 8,
   "id": "3be01bf9-4284-4b92-842d-f40c8f3c0b26",
   "metadata": {
    "tags": []
   },
   "outputs": [
    {
     "name": "stdout",
     "output_type": "stream",
     "text": [
      "There are 462 nucleobases in sequence RNA1.\n",
      "There are 462 nucleobases in sequence RNA2.\n",
      "Guanine occurs 155 times in sequence RNA1.\n",
      "Guanine occurs 154 times in sequence RNA2.\n"
     ]
    }
   ],
   "source": [
    "#coppying strings RNA1 and RNA2 into new cell\n",
    "RNA1 = 'GGGGGGCAGCAGUGGGGAAUAUUGGGCAAUGGACGAAAGUCUGACCCAGCCAUGCCGCGUGUGUGAAGAAGGCUCUAGGGUUGUAAUGCACUUUAAGUAGGGAGGAAAGGUUGUGUGUUAAUAGCACAUAGCUGUGACGUUACCUACAGAAUAAGCACCGGCUAACUCCGUGCCAGCAGCCGCGGUAAUACGGAGGGUGCAAGCGUUAAUCGGAAUUACUGGGCGUAAAGCGCGCGUAGGCGGUUAUUUAAGCUAGAUGUGAAAGCCCAGGGCUCAACCUUGGAAUUGCAUUUAGAACUGGGUAGCUAGAGUACAAGAGAGGGUGGUGGAAUUUCCAGUGUAGCGGUGAAAUGCGUAGAGAUUGGAAGGAACAUCAGUGGCGAAGGCGGCCACCUGGAUUGAUACUGACGCUGAGGUGCGAAAGCGUGGGGAGCAAACAGGAUUAGAUACCCCAGUAGUCCU'\n",
    "RNA2 = 'GGGGCGCAGCAGUGGGGAAUAUUGCACAAUGGGCGAAAGCCUGAUGCAGCCAUGCCGCGUGUGUGAAGAAGGCCUUCGGGUUGUAAAGCGCUUUCAGUUGUGAGGAAAGGGGUGUAGUUAAUAGCUACAUCCUGUGACGUUAGCAACAGAAGAAGCACCGGCUAACUUCGUGCCAGCAGCCUCGGUAAUACGAGGGGUGCAAGCGUUAAUCGGAAUUACUGGGCGUAAAGCGUUCGUAGGCGGUUUGUUAAGCAAGAUGUGAAAGCCCUGGGCUCAACCUGGGAACUGCAUUUUGAACUGGCAAACUAGAGUACUGUAGAGGGUGGUGGAAUUUCCAGUGUAGCGGUGAAAUGCGUAGAGAUUGGAAGGAACAUCAGUGGCGAAGGCGGCCACCUGGACAGAUACUGACGCUGAGGAACGAAAGCGUGGGGAGCAAACAGGAUUAGAUACCCUAGUAGUCUG'\n",
    "# finding lenth of RNA1 and RNA2 with len() function\n",
    "nucleocount1 = len(RNA1)\n",
    "nucleocount2 = len(RNA2)\n",
    "# printing results\n",
    "print(\"There are\", nucleocount1, \"nucleobases in sequence RNA1.\")\n",
    "print(\"There are\", nucleocount2, \"nucleobases in sequence RNA2.\")\n",
    "# Using count function to find the number of times G is listed in each string\n",
    "gcount1 = RNA1.count(\"G\")\n",
    "gcount2 = RNA2.count(\"G\")\n",
    "print(\"Guanine occurs\", gcount1, \"times in sequence RNA1.\")\n",
    "print(\"Guanine occurs\", gcount2, \"times in sequence RNA2.\")"
   ]
  },
  {
   "cell_type": "markdown",
   "id": "496b737e-19f4-4389-b63e-086fef92dd55",
   "metadata": {
    "deletable": false,
    "editable": false
   },
   "source": [
    "### part b\n",
    "Do four uracil (U) nucleobases ever occur side-by-side in either of the sequences? Provide your answers as booleans. (5 points)"
   ]
  },
  {
   "cell_type": "code",
   "execution_count": 9,
   "id": "3921f3bc-5872-4415-90e6-698ae9c9b363",
   "metadata": {
    "tags": []
   },
   "outputs": [
    {
     "name": "stdout",
     "output_type": "stream",
     "text": [
      "It is False that there are four uracil nucleobases side-by-side in sequence RNA1.\n",
      "It is True that there are four uracil nucleobases side-by-side in sequence RNA1.\n"
     ]
    }
   ],
   "source": [
    "#coppying strings RNA1 and RNA2 into new cell\n",
    "RNA1 = 'GGGGGGCAGCAGUGGGGAAUAUUGGGCAAUGGACGAAAGUCUGACCCAGCCAUGCCGCGUGUGUGAAGAAGGCUCUAGGGUUGUAAUGCACUUUAAGUAGGGAGGAAAGGUUGUGUGUUAAUAGCACAUAGCUGUGACGUUACCUACAGAAUAAGCACCGGCUAACUCCGUGCCAGCAGCCGCGGUAAUACGGAGGGUGCAAGCGUUAAUCGGAAUUACUGGGCGUAAAGCGCGCGUAGGCGGUUAUUUAAGCUAGAUGUGAAAGCCCAGGGCUCAACCUUGGAAUUGCAUUUAGAACUGGGUAGCUAGAGUACAAGAGAGGGUGGUGGAAUUUCCAGUGUAGCGGUGAAAUGCGUAGAGAUUGGAAGGAACAUCAGUGGCGAAGGCGGCCACCUGGAUUGAUACUGACGCUGAGGUGCGAAAGCGUGGGGAGCAAACAGGAUUAGAUACCCCAGUAGUCCU'\n",
    "RNA2 = 'GGGGCGCAGCAGUGGGGAAUAUUGCACAAUGGGCGAAAGCCUGAUGCAGCCAUGCCGCGUGUGUGAAGAAGGCCUUCGGGUUGUAAAGCGCUUUCAGUUGUGAGGAAAGGGGUGUAGUUAAUAGCUACAUCCUGUGACGUUAGCAACAGAAGAAGCACCGGCUAACUUCGUGCCAGCAGCCUCGGUAAUACGAGGGGUGCAAGCGUUAAUCGGAAUUACUGGGCGUAAAGCGUUCGUAGGCGGUUUGUUAAGCAAGAUGUGAAAGCCCUGGGCUCAACCUGGGAACUGCAUUUUGAACUGGCAAACUAGAGUACUGUAGAGGGUGGUGGAAUUUCCAGUGUAGCGGUGAAAUGCGUAGAGAUUGGAAGGAACAUCAGUGGCGAAGGCGGCCACCUGGACAGAUACUGACGCUGAGGAACGAAAGCGUGGGGAGCAAACAGGAUUAGAUACCCUAGUAGUCUG'\n",
    "# report counter1 and counter2 back as booleans\n",
    "# using string membership operators to determine if \"UUUU\" is found in either sequence\n",
    "counter1 = \"UUUU\" in RNA1\n",
    "counter2 = \"UUUU\" in RNA2\n",
    "print(\"It is\", counter1, \"that there are four uracil nucleobases side-by-side in sequence RNA1.\")\n",
    "print(\"It is\", counter2, \"that there are four uracil nucleobases side-by-side in sequence RNA1.\")"
   ]
  },
  {
   "cell_type": "markdown",
   "id": "e44025d9-088f-43c8-89ac-6d2dffbec314",
   "metadata": {
    "deletable": false,
    "editable": false
   },
   "source": [
    "### part c \n",
    "Change these rRNA sequences to DNA sequences by replacing the uracil (U) bases with thymine (T) bases in both rRNA sequences. (5 points)"
   ]
  },
  {
   "cell_type": "code",
   "execution_count": 10,
   "id": "4c411fa1-a5ff-4f9a-b513-241cdc1d17a5",
   "metadata": {
    "tags": []
   },
   "outputs": [
    {
     "name": "stdout",
     "output_type": "stream",
     "text": [
      "DNA1=GGGGGGCAGCAGTGGGGAATATTGGGCAATGGACGAAAGTCTGACCCAGCCATGCCGCGTGTGTGAAGAAGGCTCTAGGGTTGTAATGCACTTTAAGTAGGGAGGAAAGGTTGTGTGTTAATAGCACATAGCTGTGACGTTACCTACAGAATAAGCACCGGCTAACTCCGTGCCAGCAGCCGCGGTAATACGGAGGGTGCAAGCGTTAATCGGAATTACTGGGCGTAAAGCGCGCGTAGGCGGTTATTTAAGCTAGATGTGAAAGCCCAGGGCTCAACCTTGGAATTGCATTTAGAACTGGGTAGCTAGAGTACAAGAGAGGGTGGTGGAATTTCCAGTGTAGCGGTGAAATGCGTAGAGATTGGAAGGAACATCAGTGGCGAAGGCGGCCACCTGGATTGATACTGACGCTGAGGTGCGAAAGCGTGGGGAGCAAACAGGATTAGATACCCCAGTAGTCCT\n",
      "DNA2=GGGGCGCAGCAGTGGGGAATATTGCACAATGGGCGAAAGCCTGATGCAGCCATGCCGCGTGTGTGAAGAAGGCCTTCGGGTTGTAAAGCGCTTTCAGTTGTGAGGAAAGGGGTGTAGTTAATAGCTACATCCTGTGACGTTAGCAACAGAAGAAGCACCGGCTAACTTCGTGCCAGCAGCCTCGGTAATACGAGGGGTGCAAGCGTTAATCGGAATTACTGGGCGTAAAGCGTTCGTAGGCGGTTTGTTAAGCAAGATGTGAAAGCCCTGGGCTCAACCTGGGAACTGCATTTTGAACTGGCAAACTAGAGTACTGTAGAGGGTGGTGGAATTTCCAGTGTAGCGGTGAAATGCGTAGAGATTGGAAGGAACATCAGTGGCGAAGGCGGCCACCTGGACAGATACTGACGCTGAGGAACGAAAGCGTGGGGAGCAAACAGGATTAGATACCCTAGTAGTCTG\n"
     ]
    }
   ],
   "source": [
    "#coppying strings RNA1 and RNA2 into new cell\n",
    "RNA1 = 'GGGGGGCAGCAGUGGGGAAUAUUGGGCAAUGGACGAAAGUCUGACCCAGCCAUGCCGCGUGUGUGAAGAAGGCUCUAGGGUUGUAAUGCACUUUAAGUAGGGAGGAAAGGUUGUGUGUUAAUAGCACAUAGCUGUGACGUUACCUACAGAAUAAGCACCGGCUAACUCCGUGCCAGCAGCCGCGGUAAUACGGAGGGUGCAAGCGUUAAUCGGAAUUACUGGGCGUAAAGCGCGCGUAGGCGGUUAUUUAAGCUAGAUGUGAAAGCCCAGGGCUCAACCUUGGAAUUGCAUUUAGAACUGGGUAGCUAGAGUACAAGAGAGGGUGGUGGAAUUUCCAGUGUAGCGGUGAAAUGCGUAGAGAUUGGAAGGAACAUCAGUGGCGAAGGCGGCCACCUGGAUUGAUACUGACGCUGAGGUGCGAAAGCGUGGGGAGCAAACAGGAUUAGAUACCCCAGUAGUCCU'\n",
    "RNA2 = 'GGGGCGCAGCAGUGGGGAAUAUUGCACAAUGGGCGAAAGCCUGAUGCAGCCAUGCCGCGUGUGUGAAGAAGGCCUUCGGGUUGUAAAGCGCUUUCAGUUGUGAGGAAAGGGGUGUAGUUAAUAGCUACAUCCUGUGACGUUAGCAACAGAAGAAGCACCGGCUAACUUCGUGCCAGCAGCCUCGGUAAUACGAGGGGUGCAAGCGUUAAUCGGAAUUACUGGGCGUAAAGCGUUCGUAGGCGGUUUGUUAAGCAAGAUGUGAAAGCCCUGGGCUCAACCUGGGAACUGCAUUUUGAACUGGCAAACUAGAGUACUGUAGAGGGUGGUGGAAUUUCCAGUGUAGCGGUGAAAUGCGUAGAGAUUGGAAGGAACAUCAGUGGCGAAGGCGGCCACCUGGACAGAUACUGACGCUGAGGAACGAAAGCGUGGGGAGCAAACAGGAUUAGAUACCCUAGUAGUCUG'\n",
    "# using replace function to replace uracil with thymine\n",
    "DNA1 = RNA1.replace(\"U\", \"T\")\n",
    "DNA2 = RNA2.replace(\"U\", \"T\")\n",
    "# printing results\n",
    "print(\"DNA1=\"+DNA1)\n",
    "print(\"DNA2=\"+DNA2)"
   ]
  },
  {
   "cell_type": "markdown",
   "id": "2d53d585-7aff-449b-9ebb-3c6ce25a6cef",
   "metadata": {
    "deletable": false,
    "editable": false
   },
   "source": [
    "### part d\n",
    "Slice and print the first 24 nucleobases from the new DNA sequences. How many of each nucleobase (A,C,G,T) are in each of these shorter sequences? (5 points)"
   ]
  },
  {
   "cell_type": "code",
   "execution_count": 11,
   "id": "d045ddf5-4667-4536-abf0-823ec8abd71a",
   "metadata": {
    "tags": []
   },
   "outputs": [
    {
     "name": "stdout",
     "output_type": "stream",
     "text": [
      "The first 24 nucleobases of sequence DNA1 are GGGGGGCAGCAGTGGGGAATATTG\n",
      "The first 24 nucleobases of sequence DNA2 are GGGGCGCAGCAGTGGGGAATATTG\n",
      "There are 5 adenine nucleobases, 2 cytosine nucleobases, 13 guanine nucleobases, and 4 thymine nucleobases in the first 24 nucleobases of DNA1.\n",
      "There are 5 adenine nucleobases, 3 cytosine nucleobases, 12 guanine nucleobases, and 4 thymine nucleobases in the first 24 nucleobases of DNA2.\n"
     ]
    }
   ],
   "source": [
    "# coppying strings RNA1, RNA2, and work from part c where RNA sequences were translated into DNA sequences by replacing U with T\n",
    "RNA1 = 'GGGGGGCAGCAGUGGGGAAUAUUGGGCAAUGGACGAAAGUCUGACCCAGCCAUGCCGCGUGUGUGAAGAAGGCUCUAGGGUUGUAAUGCACUUUAAGUAGGGAGGAAAGGUUGUGUGUUAAUAGCACAUAGCUGUGACGUUACCUACAGAAUAAGCACCGGCUAACUCCGUGCCAGCAGCCGCGGUAAUACGGAGGGUGCAAGCGUUAAUCGGAAUUACUGGGCGUAAAGCGCGCGUAGGCGGUUAUUUAAGCUAGAUGUGAAAGCCCAGGGCUCAACCUUGGAAUUGCAUUUAGAACUGGGUAGCUAGAGUACAAGAGAGGGUGGUGGAAUUUCCAGUGUAGCGGUGAAAUGCGUAGAGAUUGGAAGGAACAUCAGUGGCGAAGGCGGCCACCUGGAUUGAUACUGACGCUGAGGUGCGAAAGCGUGGGGAGCAAACAGGAUUAGAUACCCCAGUAGUCCU'\n",
    "RNA2 = 'GGGGCGCAGCAGUGGGGAAUAUUGCACAAUGGGCGAAAGCCUGAUGCAGCCAUGCCGCGUGUGUGAAGAAGGCCUUCGGGUUGUAAAGCGCUUUCAGUUGUGAGGAAAGGGGUGUAGUUAAUAGCUACAUCCUGUGACGUUAGCAACAGAAGAAGCACCGGCUAACUUCGUGCCAGCAGCCUCGGUAAUACGAGGGGUGCAAGCGUUAAUCGGAAUUACUGGGCGUAAAGCGUUCGUAGGCGGUUUGUUAAGCAAGAUGUGAAAGCCCUGGGCUCAACCUGGGAACUGCAUUUUGAACUGGCAAACUAGAGUACUGUAGAGGGUGGUGGAAUUUCCAGUGUAGCGGUGAAAUGCGUAGAGAUUGGAAGGAACAUCAGUGGCGAAGGCGGCCACCUGGACAGAUACUGACGCUGAGGAACGAAAGCGUGGGGAGCAAACAGGAUUAGAUACCCUAGUAGUCUG'\n",
    "DNA1 = RNA1.replace(\"U\", \"T\")\n",
    "DNA2 = RNA2.replace(\"U\", \"T\")\n",
    "# slicing first 24 nucleobases of DNA sequences\n",
    "DNA1s = DNA1[0:24]\n",
    "DNA2s = DNA2[0:24]\n",
    "#printing first 24 nucleobases of DNA sequences\n",
    "print(\"The first 24 nucleobases of sequence DNA1 are\", DNA1s)\n",
    "print(\"The first 24 nucleobases of sequence DNA2 are\", DNA2s)\n",
    "# using count function to count number of each nucleobase in DNA1s and DNA2s\n",
    "a_count_DNA1s = DNA1s.count(\"A\")\n",
    "c_count_DNA1s = DNA1s.count(\"C\")\n",
    "g_count_DNA1s = DNA1s.count(\"G\")\n",
    "t_count_DNA1s = DNA1s.count(\"T\")\n",
    "a_count_DNA2s = DNA2s.count(\"A\")\n",
    "c_count_DNA2s = DNA2s.count(\"C\")\n",
    "g_count_DNA2s = DNA2s.count(\"G\")\n",
    "t_count_DNA2s = DNA2s.count(\"T\")\n",
    "# printing results as a full sentence\n",
    "print(\"There are\", a_count_DNA1s, \"adenine nucleobases,\", c_count_DNA1s, \"cytosine nucleobases,\", g_count_DNA1s, \"guanine nucleobases, and\", t_count_DNA1s, \"thymine nucleobases in the first 24 nucleobases of DNA1.\")\n",
    "print(\"There are\", a_count_DNA2s, \"adenine nucleobases,\", c_count_DNA2s, \"cytosine nucleobases,\", g_count_DNA2s, \"guanine nucleobases, and\", t_count_DNA2s, \"thymine nucleobases in the first 24 nucleobases of DNA2.\")"
   ]
  },
  {
   "cell_type": "markdown",
   "id": "279369b4-0de0-4153-ba2b-3b1b7dded6cb",
   "metadata": {
    "deletable": false,
    "editable": false
   },
   "source": [
    "# Question 4 (25 Points)\n",
    "Tides in the Gulf of Mexico are usually diurnal. This means that there is one high tide and one low tide every ~24 hours. This differs from our local semi-diurnal Seattle tides that have one high and one low every ~12 hours. Tidal amplitudes in the Gulf of Mexico are also very small compared to our local Puget Sound tides.\n",
    "\n",
    "New Orleans, Louisiana is a city located on the Gulf of Mexico where diurnal tides dominate. The lists below contain the dates, high tide times, low tide times, high tide heights (in feet), and low tide heights (in feet) for tidal forcasts for the week of Oct. 1 - Oct 8, 2022. The lists are each the same length, with each index corresponding to a single day.\n",
    "\n",
    "Use these lists and build Python code to answer the following questions. As before, please have your code output (print) the solutions and units for each. Make sure you are using the provided variable names to reference your variables instead of hardcoding your answers!\n",
    "\n",
    "> a) What is the maximum high tide measurement during this week? Find it's index in the list. (5 points)\n",
    "\n",
    "> b) Use list indexing to print the date of the maximum high tide. Calculate the tidal amplitude for that day. *(Hint: Tidal amplitude = maximum measurement - minumum measurement).* (5 points)\n",
    "\n",
    "> c) What is the minimum low tide measurement during this week? Find it's index in the list. *(Hint: There is one day that there is no tidal minimum, represented by None rather than a float. You cannot take the minimum of list with a NoneType object. Develop a creative workaround for this problem, and justify your method in your comments!)* (5 points)\n",
    "\n",
    "> d) Use list indexing to print the date of the minimum low tide. Calculate the tidal amplitude for that day (5 points).\n",
    "\n",
    "> e) Find out which of the two dates have the highest tidal amplitude using a boolean test. Print and label the date, low tide time, high tide time, and tidal amplitude in the same line.(5 points)\n"
   ]
  },
  {
   "cell_type": "code",
   "execution_count": 12,
   "id": "a577dcb9-5ed4-4c9a-8ae6-41c7abe6b4a9",
   "metadata": {
    "deletable": false,
    "editable": false,
    "tags": []
   },
   "outputs": [],
   "source": [
    "# Keep these starting lines of code – these may not be changed:\n",
    "dates = ['October 1','October 2','October 3','October 4','October 5','October 6','October 7','October 8']\n",
    "high_times = ['6:05AM','6:53AM','7:42AM','8:32AM','9:21AM','10:10AM','11:02AM','6:07PM']\n",
    "low_times = ['4:37PM','6:36PM','9:45PM','11:05PM', None,'00:07AM','1:02AM','1:55AM']\n",
    "high_measurement_feet = [1.57, 1.65, 1.67, 1.61, 1.44, 1.25, 1.02, 0.85]\n",
    "low_measurement_feet =  [-0.02, -0.07, -0.03, -0.02, None, 0.03, 0.16, 0.36]\n",
    "\n",
    "# Provide your answers below:"
   ]
  },
  {
   "cell_type": "markdown",
   "id": "1da1d943",
   "metadata": {},
   "source": [
    "_Type your answer here, replacing this text._"
   ]
  },
  {
   "cell_type": "code",
   "execution_count": 13,
   "id": "38794b12-ada2-4545-bca9-d113a677e39b",
   "metadata": {
    "tags": []
   },
   "outputs": [
    {
     "name": "stdout",
     "output_type": "stream",
     "text": [
      "The maximum high tide this week was 1.67 feet.\n"
     ]
    }
   ],
   "source": [
    "baseline = max(high_measurement_feet)\n",
    "baseindex = 2\n",
    "print(\"The maximum high tide this week was\", baseline, \"feet.\")"
   ]
  },
  {
   "cell_type": "markdown",
   "id": "ec123fb7-63dd-4d35-a272-11ea199e5604",
   "metadata": {
    "deletable": false,
    "editable": false
   },
   "source": [
    "### part b\n",
    "Use your variable \"baseindex\" from part a) with list indexing to print the date of the maximum high tide. Calculate the tidal amplitude for that day. (Hint: Tidal amplitude = maximum measurement - minumum measurement). (5 points)"
   ]
  },
  {
   "cell_type": "code",
   "execution_count": 14,
   "id": "77ece61c-82d2-42fd-b6fa-990d6f3a41c8",
   "metadata": {
    "tags": []
   },
   "outputs": [
    {
     "name": "stdout",
     "output_type": "stream",
     "text": [
      "The maximum high tide this week was 1.67 feet.\n",
      "The tidal amplitude for October 3 is 1.7 feet.\n"
     ]
    }
   ],
   "source": [
    "print(\"The maximum high tide this week was\", baseline, \"feet.\")\n",
    "max_amp = baseline - low_measurement_feet[2]\n",
    "max_amp_date = dates[2]\n",
    "print(\"The tidal amplitude for\", max_amp_date, \"is\", max_amp, \"feet.\")"
   ]
  },
  {
   "cell_type": "markdown",
   "id": "0ef65812-bbd3-453b-ab70-382c40104538",
   "metadata": {
    "deletable": false,
    "editable": false
   },
   "source": [
    "### part c\n",
    "What is the minimum low tide measurement during this week? Find it's index in the list. (Hint: There is one day that there is no tidal minimum, represented by None rather than a float. You cannot take the minimum of list with a NoneType object. Develop a creative workaround for this problem, and justify your method in your comments!) (5 points)"
   ]
  },
  {
   "cell_type": "code",
   "execution_count": 15,
   "id": "5c217577-b405-4897-9957-83254bd07a8c",
   "metadata": {
    "tags": []
   },
   "outputs": [
    {
     "name": "stdout",
     "output_type": "stream",
     "text": [
      "The tidal minimum is -0.07 feet.\n"
     ]
    }
   ],
   "source": [
    "# I defined lowest value as the first value in low_measurement_feet. Then I made a for loop to check if each subsequent value was less than the starting value, and if it was, the new value replaced the starting value as the new lowest value. I also included an 'if is not' statement to leave out the data point \"None\"\n",
    "lowest_value= low_measurement_feet[0]\n",
    "for value in low_measurement_feet :\n",
    "    if value is not None :\n",
    "        if value < lowest_value :\n",
    "            lowest_value = value\n",
    "# set minbase equal to lowest_value found in for loop        \n",
    "minbase = lowest_value\n",
    "# looked at printed minimum value, found associated date and index in date list\n",
    "minbaseindex = 1\n",
    "print(\"The tidal minimum is\", minbase, \"feet.\")"
   ]
  },
  {
   "cell_type": "markdown",
   "id": "0958297b-0f0f-487b-922e-908f4e9baeb6",
   "metadata": {
    "deletable": false,
    "editable": false
   },
   "source": [
    "### part d\n",
    "Use list indexing to print the date of the minimum low tide. Calculate the tidal amplitude for that day (5 points)."
   ]
  },
  {
   "cell_type": "code",
   "execution_count": 16,
   "id": "a2745964-de64-4926-9ed3-4ec87b3b20da",
   "metadata": {
    "tags": []
   },
   "outputs": [
    {
     "name": "stdout",
     "output_type": "stream",
     "text": [
      "The minimum low tide tide this week was October 2 with an amplitude of 1.72 feet.\n"
     ]
    }
   ],
   "source": [
    "min_amp = high_measurement_feet[1] - low_measurement_feet[1]\n",
    "min_amp_date = dates[1]\n",
    "print(\"The minimum low tide tide this week was\", min_amp_date, \"with an amplitude of\", min_amp, \"feet.\")"
   ]
  },
  {
   "cell_type": "markdown",
   "id": "22592764-3340-4db7-adbf-f224b40a6599",
   "metadata": {
    "deletable": false,
    "editable": false
   },
   "source": [
    "### part e\n",
    "Find out which of the two dates from part b) and part d) have the higher tidal amplitude using a boolean test. Print and label the date, low tide time, high tide time, and tidal amplitude in the same line.(5 points)"
   ]
  },
  {
   "cell_type": "code",
   "execution_count": 17,
   "id": "e760366c-f78b-4cd0-8001-7586d8c1d043",
   "metadata": {
    "tags": []
   },
   "outputs": [
    {
     "name": "stdout",
     "output_type": "stream",
     "text": [
      "True\n"
     ]
    }
   ],
   "source": [
    "# set variable equal to boolean test\n",
    "is_part_d_larger = min_amp>max_amp\n",
    "print(is_part_d_larger)"
   ]
  },
  {
   "cell_type": "code",
   "execution_count": 18,
   "id": "8f0119ab-a920-44e3-aedb-98f2bf6cc891",
   "metadata": {
    "tags": []
   },
   "outputs": [
    {
     "name": "stdout",
     "output_type": "stream",
     "text": [
      "It is True that the tidal amplitude of 1.72  feet on October 2 with a high tide at 6:53AM and a low tide at 6:36PM is greater than the tidal amplitude of 1.7  feet on October 3 with a high tide at 7:42AM and a low tide at 9:45PM\n"
     ]
    }
   ],
   "source": [
    "print (\"It is\", is_part_d_larger, \"that the tidal amplitude of\", min_amp, \" feet on\", min_amp_date, \"with a high tide at\", high_times[1], \"and a low tide at\", low_times[1], \"is greater than the tidal amplitude of\", max_amp, \" feet on\", max_amp_date, \"with a high tide at\", high_times[2], \"and a low tide at\", low_times[2])"
   ]
  },
  {
   "cell_type": "code",
   "execution_count": null,
   "id": "d0eb410e-73b4-49b4-8585-a182a4ebf235",
   "metadata": {},
   "outputs": [],
   "source": []
  }
 ],
 "metadata": {
  "kernelspec": {
   "display_name": "Python 3 (ipykernel)",
   "language": "python",
   "name": "python3"
  },
  "language_info": {
   "codemirror_mode": {
    "name": "ipython",
    "version": 3
   },
   "file_extension": ".py",
   "mimetype": "text/x-python",
   "name": "python",
   "nbconvert_exporter": "python",
   "pygments_lexer": "ipython3",
   "version": "3.10.10"
  },
  "otter": {
   "OK_FORMAT": true,
   "tests": {
    "Question 2a": {
     "name": "Question 2a",
     "points": 4,
     "suites": [
      {
       "cases": [
        {
         "code": ">>> # PART A, let them be +/- by 5\n>>> assert 205 >= pelagic >= 195\n",
         "hidden": false,
         "locked": false,
         "points": 1
        },
        {
         "code": ">>> # PART A, let them be +/- by 5\n>>> assert 55 >= coastal >= 45\n",
         "hidden": false,
         "locked": false,
         "points": 1
        },
        {
         "code": ">>> # PART A, let them be +/- by 0.2 (need to backcalculate operations)\n>>> assert 1.1 >= (sdiatom*ft_to_m)/(m_to_cm/day_to_hours )/(day_to_hours/m_to_cm) >= 0.7\n",
         "hidden": false,
         "locked": false,
         "points": 1
        },
        {
         "code": ">>> # PART A, let them be +/- by 0.2\n>>> assert 13.7 >= (ldiatom*ft_to_m)/(m_to_cm/day_to_hours )/(day_to_hours/m_to_cm) >= 13.3\n",
         "hidden": false,
         "locked": false,
         "points": 1
        }
       ],
       "scored": true,
       "setup": "",
       "teardown": "",
       "type": "doctest"
      }
     ]
    }
   }
  }
 },
 "nbformat": 4,
 "nbformat_minor": 5
}
